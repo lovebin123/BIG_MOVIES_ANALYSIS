{
 "cells": [
  {
   "cell_type": "code",
   "execution_count": 5,
   "metadata": {},
   "outputs": [],
   "source": [
    "from pyspark.sql import SparkSession\n",
    "spark = SparkSession.builder \\\n",
    "    .getOrCreate()\n"
   ]
  },
  {
   "cell_type": "code",
   "execution_count": 6,
   "metadata": {},
   "outputs": [],
   "source": [
    "dfrm1=spark.read.csv('imdb_top_1000.csv',header=True,inferSchema=True)"
   ]
  },
  {
   "cell_type": "code",
   "execution_count": 7,
   "metadata": {},
   "outputs": [
    {
     "name": "stdout",
     "output_type": "stream",
     "text": [
      "root\n",
      " |-- Poster_Link: string (nullable = true)\n",
      " |-- Series_Title: string (nullable = true)\n",
      " |-- Released_Year: string (nullable = true)\n",
      " |-- Certificate: string (nullable = true)\n",
      " |-- Runtime: string (nullable = true)\n",
      " |-- Genre: string (nullable = true)\n",
      " |-- IMDB_Rating: double (nullable = true)\n",
      " |-- Overview: string (nullable = true)\n",
      " |-- Meta_score: string (nullable = true)\n",
      " |-- Director: string (nullable = true)\n",
      " |-- Star1: string (nullable = true)\n",
      " |-- Star2: string (nullable = true)\n",
      " |-- Star3: string (nullable = true)\n",
      " |-- Star4: string (nullable = true)\n",
      " |-- No_of_Votes: string (nullable = true)\n",
      " |-- Gross: string (nullable = true)\n",
      "\n"
     ]
    }
   ],
   "source": [
    "dfrm1.printSchema()"
   ]
  },
  {
   "cell_type": "code",
   "execution_count": 8,
   "metadata": {},
   "outputs": [
    {
     "name": "stdout",
     "output_type": "stream",
     "text": [
      "+--------------------+--------------------+-------------+-----------+-------+--------------------+-----------+--------------------+----------+--------------------+------------------+--------------------+------------------+--------------------+-----------+-----------+\n",
      "|         Poster_Link|        Series_Title|Released_Year|Certificate|Runtime|               Genre|IMDB_Rating|            Overview|Meta_score|            Director|             Star1|               Star2|             Star3|               Star4|No_of_Votes|      Gross|\n",
      "+--------------------+--------------------+-------------+-----------+-------+--------------------+-----------+--------------------+----------+--------------------+------------------+--------------------+------------------+--------------------+-----------+-----------+\n",
      "|https://m.media-a...|The Shawshank Red...|         1994|          A|142 min|               Drama|        9.3|Two imprisoned me...|        80|      Frank Darabont|       Tim Robbins|      Morgan Freeman|        Bob Gunton|      William Sadler|    2343110| 28,341,469|\n",
      "|https://m.media-a...|       The Godfather|         1972|          A|175 min|        Crime, Drama|        9.2|An organized crim...|       100|Francis Ford Coppola|     Marlon Brando|           Al Pacino|        James Caan|        Diane Keaton|    1620367|134,966,411|\n",
      "|https://m.media-a...|     The Dark Knight|         2008|         UA|152 min|Action, Crime, Drama|        9.0|When the menace k...|        84|   Christopher Nolan|    Christian Bale|        Heath Ledger|     Aaron Eckhart|       Michael Caine|    2303232|534,858,444|\n",
      "|https://m.media-a...|The Godfather: Pa...|         1974|          A|202 min|        Crime, Drama|        9.0|The early life an...|        90|Francis Ford Coppola|         Al Pacino|      Robert De Niro|     Robert Duvall|        Diane Keaton|    1129952| 57,300,000|\n",
      "|https://m.media-a...|        12 Angry Men|         1957|          U| 96 min|        Crime, Drama|        9.0|A jury holdout at...|        96|        Sidney Lumet|       Henry Fonda|         Lee J. Cobb|     Martin Balsam|        John Fiedler|     689845|  4,360,000|\n",
      "|https://m.media-a...|The Lord of the R...|         2003|          U|201 min|Action, Adventure...|        8.9|Gandalf and Arago...|        94|       Peter Jackson|       Elijah Wood|     Viggo Mortensen|      Ian McKellen|       Orlando Bloom|    1642758|377,845,905|\n",
      "|https://m.media-a...|        Pulp Fiction|         1994|          A|154 min|        Crime, Drama|        8.9|The lives of two ...|        94|   Quentin Tarantino|     John Travolta|         Uma Thurman| Samuel L. Jackson|        Bruce Willis|    1826188|107,928,762|\n",
      "|https://m.media-a...|    Schindler's List|         1993|          A|195 min|Biography, Drama,...|        8.9|In German-occupie...|        94|    Steven Spielberg|       Liam Neeson|       Ralph Fiennes|      Ben Kingsley|    Caroline Goodall|    1213505| 96,898,818|\n",
      "|https://m.media-a...|           Inception|         2010|         UA|148 min|Action, Adventure...|        8.8|A thief who steal...|        74|   Christopher Nolan| Leonardo DiCaprio|Joseph Gordon-Levitt|       Elliot Page|        Ken Watanabe|    2067042|292,576,195|\n",
      "|https://m.media-a...|          Fight Club|         1999|          A|139 min|               Drama|        8.8|An insomniac offi...|        66|       David Fincher|         Brad Pitt|       Edward Norton|         Meat Loaf|        Zach Grenier|    1854740| 37,030,102|\n",
      "|https://m.media-a...|The Lord of the R...|         2001|          U|178 min|Action, Adventure...|        8.8|A meek Hobbit fro...|        92|       Peter Jackson|       Elijah Wood|        Ian McKellen|     Orlando Bloom|           Sean Bean|    1661481|315,544,750|\n",
      "|https://m.media-a...|        Forrest Gump|         1994|         UA|142 min|      Drama, Romance|        8.8|The presidencies ...|        82|     Robert Zemeckis|         Tom Hanks|        Robin Wright|       Gary Sinise|         Sally Field|    1809221|330,252,182|\n",
      "|https://m.media-a...|Il buono, il brut...|         1966|          A|161 min|             Western|        8.8|A bounty hunting ...|        90|        Sergio Leone|    Clint Eastwood|         Eli Wallach|     Lee Van Cleef|        Aldo Giuffrè|     688390|  6,100,000|\n",
      "|https://m.media-a...|The Lord of the R...|         2002|         UA|179 min|Action, Adventure...|        8.7|While Frodo and S...|        87|       Peter Jackson|       Elijah Wood|        Ian McKellen|   Viggo Mortensen|       Orlando Bloom|    1485555|342,551,365|\n",
      "|https://m.media-a...|          The Matrix|         1999|          A|136 min|      Action, Sci-Fi|        8.7|When a beautiful ...|        73|      Lana Wachowski|   Lilly Wachowski|        Keanu Reeves|Laurence Fishburne|    Carrie-Anne Moss|    1676426|171,479,930|\n",
      "|https://m.media-a...|          Goodfellas|         1990|          A|146 min|Biography, Crime,...|        8.7|The story of Henr...|        90|     Martin Scorsese|    Robert De Niro|          Ray Liotta|         Joe Pesci|     Lorraine Bracco|    1020727| 46,836,394|\n",
      "|https://m.media-a...|Star Wars: Episod...|         1980|         UA|124 min|Action, Adventure...|        8.7|After the Rebels ...|        82|      Irvin Kershner|       Mark Hamill|       Harrison Ford|     Carrie Fisher|  Billy Dee Williams|    1159315|290,475,067|\n",
      "|https://m.media-a...|One Flew Over the...|         1975|          A|133 min|               Drama|        8.7|A criminal pleads...|        83|        Milos Forman|    Jack Nicholson|     Louise Fletcher|  Michael Berryman|        Peter Brocco|     918088|112,000,000|\n",
      "|https://m.media-a...|            Hamilton|         2020|      PG-13|160 min|Biography, Drama,...|        8.6|The real life of ...|        90|         Thomas Kail|Lin-Manuel Miranda|        Phillipa Soo|   Leslie Odom Jr.|Renée Elise Golds...|      55291|       NULL|\n",
      "|https://m.media-a...|        Gisaengchung|         2019|          A|132 min|Comedy, Drama, Th...|        8.6|Greed and class d...|        96|        Bong Joon Ho|      Kang-ho Song|        Lee Sun-kyun|     Cho Yeo-jeong|        Choi Woo-sik|     552778| 53,367,844|\n",
      "+--------------------+--------------------+-------------+-----------+-------+--------------------+-----------+--------------------+----------+--------------------+------------------+--------------------+------------------+--------------------+-----------+-----------+\n",
      "only showing top 20 rows\n",
      "\n"
     ]
    }
   ],
   "source": [
    "dfrm1.show()"
   ]
  },
  {
   "cell_type": "code",
   "execution_count": 9,
   "metadata": {},
   "outputs": [
    {
     "data": {
      "text/plain": [
       "[('Poster_Link', 'string'),\n",
       " ('Series_Title', 'string'),\n",
       " ('Released_Year', 'string'),\n",
       " ('Certificate', 'string'),\n",
       " ('Runtime', 'string'),\n",
       " ('Genre', 'string'),\n",
       " ('IMDB_Rating', 'double'),\n",
       " ('Overview', 'string'),\n",
       " ('Meta_score', 'string'),\n",
       " ('Director', 'string'),\n",
       " ('Star1', 'string'),\n",
       " ('Star2', 'string'),\n",
       " ('Star3', 'string'),\n",
       " ('Star4', 'string'),\n",
       " ('No_of_Votes', 'string'),\n",
       " ('Gross', 'string')]"
      ]
     },
     "execution_count": 9,
     "metadata": {},
     "output_type": "execute_result"
    }
   ],
   "source": [
    "dfrm1.dtypes"
   ]
  },
  {
   "cell_type": "code",
   "execution_count": 10,
   "metadata": {},
   "outputs": [],
   "source": [
    "dfrm1=dfrm1.drop('Poster_Link')\n",
    "dfrm1=dfrm1.drop('Overreview')"
   ]
  },
  {
   "cell_type": "code",
   "execution_count": 41,
   "metadata": {},
   "outputs": [
    {
     "name": "stdout",
     "output_type": "stream",
     "text": [
      "+--------------------+-------------+-----------+-------+-----------+--------------------+----------+--------------------+------------------+--------------------+------------------+--------------------+-----------+------------+---------+---------+--------+\n",
      "|        Series_Title|Released_Year|Certificate|Runtime|imdb_rating|            Overview|Meta_score|            Director|             Star1|               Star2|             Star3|               Star4|No_of_votes|       Gross|  Genre_1|  Genre_2| Genre_3|\n",
      "+--------------------+-------------+-----------+-------+-----------+--------------------+----------+--------------------+------------------+--------------------+------------------+--------------------+-----------+------------+---------+---------+--------+\n",
      "|The Shawshank Red...|         1994|          A|142 min|        9.3|Two imprisoned me...|        80|      Frank Darabont|       Tim Robbins|      Morgan Freeman|        Bob Gunton|      William Sadler|    2343110| 2.8341468E7|    Drama|     NULL|    NULL|\n",
      "|       The Godfather|         1972|          A|175 min|        9.2|An organized crim...|       100|Francis Ford Coppola|     Marlon Brando|           Al Pacino|        James Caan|        Diane Keaton|    1620367|1.34966416E8|    Crime|    Drama|    NULL|\n",
      "|     The Dark Knight|         2008|         UA|152 min|        9.0|When the menace k...|        84|   Christopher Nolan|    Christian Bale|        Heath Ledger|     Aaron Eckhart|       Michael Caine|    2303232|5.34858432E8|   Action|    Crime|   Drama|\n",
      "|The Godfather: Pa...|         1974|          A|202 min|        9.0|The early life an...|        90|Francis Ford Coppola|         Al Pacino|      Robert De Niro|     Robert Duvall|        Diane Keaton|    1129952|      5.73E7|    Crime|    Drama|    NULL|\n",
      "|        12 Angry Men|         1957|          U| 96 min|        9.0|A jury holdout at...|        96|        Sidney Lumet|       Henry Fonda|         Lee J. Cobb|     Martin Balsam|        John Fiedler|     689845|   4360000.0|    Crime|    Drama|    NULL|\n",
      "|The Lord of the R...|         2003|          U|201 min|        8.9|Gandalf and Arago...|        94|       Peter Jackson|       Elijah Wood|     Viggo Mortensen|      Ian McKellen|       Orlando Bloom|    1642758| 3.7784592E8|   Action|Adventure|   Drama|\n",
      "|        Pulp Fiction|         1994|          A|154 min|        8.9|The lives of two ...|        94|   Quentin Tarantino|     John Travolta|         Uma Thurman| Samuel L. Jackson|        Bruce Willis|    1826188| 1.0792876E8|    Crime|    Drama|    NULL|\n",
      "|    Schindler's List|         1993|          A|195 min|        8.9|In German-occupie...|        94|    Steven Spielberg|       Liam Neeson|       Ralph Fiennes|      Ben Kingsley|    Caroline Goodall|    1213505| 9.6898816E7|Biography|    Drama| History|\n",
      "|           Inception|         2010|         UA|148 min|        8.8|A thief who steal...|        74|   Christopher Nolan| Leonardo DiCaprio|Joseph Gordon-Levitt|       Elliot Page|        Ken Watanabe|    2067042|2.92576192E8|   Action|Adventure|  Sci-Fi|\n",
      "|          Fight Club|         1999|          A|139 min|        8.8|An insomniac offi...|        66|       David Fincher|         Brad Pitt|       Edward Norton|         Meat Loaf|        Zach Grenier|    1854740| 3.7030104E7|    Drama|     NULL|    NULL|\n",
      "|The Lord of the R...|         2001|          U|178 min|        8.8|A meek Hobbit fro...|        92|       Peter Jackson|       Elijah Wood|        Ian McKellen|     Orlando Bloom|           Sean Bean|    1661481|3.15544736E8|   Action|Adventure|   Drama|\n",
      "|        Forrest Gump|         1994|         UA|142 min|        8.8|The presidencies ...|        82|     Robert Zemeckis|         Tom Hanks|        Robin Wright|       Gary Sinise|         Sally Field|    1809221|3.30252192E8|    Drama|  Romance|    NULL|\n",
      "|Il buono, il brut...|         1966|          A|161 min|        8.8|A bounty hunting ...|        90|        Sergio Leone|    Clint Eastwood|         Eli Wallach|     Lee Van Cleef|        Aldo Giuffrè|     688390|   6100000.0|  Western|     NULL|    NULL|\n",
      "|The Lord of the R...|         2002|         UA|179 min|        8.7|While Frodo and S...|        87|       Peter Jackson|       Elijah Wood|        Ian McKellen|   Viggo Mortensen|       Orlando Bloom|    1485555| 3.4255136E8|   Action|Adventure|   Drama|\n",
      "|          The Matrix|         1999|          A|136 min|        8.7|When a beautiful ...|        73|      Lana Wachowski|   Lilly Wachowski|        Keanu Reeves|Laurence Fishburne|    Carrie-Anne Moss|    1676426|1.71479936E8|   Action|   Sci-Fi|    NULL|\n",
      "|          Goodfellas|         1990|          A|146 min|        8.7|The story of Henr...|        90|     Martin Scorsese|    Robert De Niro|          Ray Liotta|         Joe Pesci|     Lorraine Bracco|    1020727| 4.6836392E7|Biography|    Crime|   Drama|\n",
      "|Star Wars: Episod...|         1980|         UA|124 min|        8.7|After the Rebels ...|        82|      Irvin Kershner|       Mark Hamill|       Harrison Ford|     Carrie Fisher|  Billy Dee Williams|    1159315|2.90475072E8|   Action|Adventure| Fantasy|\n",
      "|One Flew Over the...|         1975|          A|133 min|        8.7|A criminal pleads...|        83|        Milos Forman|    Jack Nicholson|     Louise Fletcher|  Michael Berryman|        Peter Brocco|     918088|      1.12E8|    Drama|     NULL|    NULL|\n",
      "|            Hamilton|         2020|      PG-13|160 min|        8.6|The real life of ...|        90|         Thomas Kail|Lin-Manuel Miranda|        Phillipa Soo|   Leslie Odom Jr.|Renée Elise Golds...|      55291| 6.6496704E7|Biography|    Drama| History|\n",
      "|        Gisaengchung|         2019|          A|132 min|        8.6|Greed and class d...|        96|        Bong Joon Ho|      Kang-ho Song|        Lee Sun-kyun|     Cho Yeo-jeong|        Choi Woo-sik|     552778| 5.3367844E7|   Comedy|    Drama|Thriller|\n",
      "+--------------------+-------------+-----------+-------+-----------+--------------------+----------+--------------------+------------------+--------------------+------------------+--------------------+-----------+------------+---------+---------+--------+\n",
      "only showing top 20 rows\n",
      "\n"
     ]
    }
   ],
   "source": [
    "from pyspark.sql.functions import regexp_replace,col\n",
    "dfrm1 = dfrm1.withColumn(\"Gross\", regexp_replace(col(\"Gross\"), \",\", \"\").cast(\"float\"))\n",
    "dfrm1 = dfrm1.withColumn(\"No_of_votes\", regexp_replace(col(\"No_of_Votes\"), \",\", \"\").cast(\"int\"))\n",
    "dfrm1=dfrm1.withColumn('imdb_rating',regexp_replace(col('imdb_rating'),\",\",\"\").cast(\"float\"))\n",
    "dfrm1.show()"
   ]
  },
  {
   "cell_type": "code",
   "execution_count": 42,
   "metadata": {},
   "outputs": [
    {
     "name": "stdout",
     "output_type": "stream",
     "text": [
      "+------------+-------------+-----------+-------+-----------+--------+----------+--------+-----+-----+-----+-----+-----------+-----+-------+-------+-------+\n",
      "|Series_Title|Released_Year|Certificate|Runtime|imdb_rating|Overview|Meta_score|Director|Star1|Star2|Star3|Star4|No_of_votes|Gross|Genre_1|Genre_2|Genre_3|\n",
      "+------------+-------------+-----------+-------+-----------+--------+----------+--------+-----+-----+-----+-----+-----------+-----+-------+-------+-------+\n",
      "|           0|            0|          0|      0|          0|       0|         0|       0|    0|    0|    0|    0|         14|    0|      0|    105|    354|\n",
      "+------------+-------------+-----------+-------+-----------+--------+----------+--------+-----+-----+-----+-----+-----------+-----+-------+-------+-------+\n",
      "\n"
     ]
    }
   ],
   "source": [
    "from pyspark.sql.functions import col,count,isnan,when\n",
    "dfrm1.select([count(when(isnan(c) | col(c).isNull(), c)).alias(c) for c in dfrm1.columns]\n",
    "   ).show()"
   ]
  },
  {
   "cell_type": "code",
   "execution_count": 43,
   "metadata": {},
   "outputs": [
    {
     "name": "stdout",
     "output_type": "stream",
     "text": [
      "+--------------------+-------------+-----------+-------+-----------+--------------------+----------+--------------------+------------------+--------------------+------------------+--------------------+-----------+------------+---------+---------+--------+\n",
      "|        Series_Title|Released_Year|Certificate|Runtime|imdb_rating|            Overview|Meta_score|            Director|             Star1|               Star2|             Star3|               Star4|No_of_votes|       Gross|  Genre_1|  Genre_2| Genre_3|\n",
      "+--------------------+-------------+-----------+-------+-----------+--------------------+----------+--------------------+------------------+--------------------+------------------+--------------------+-----------+------------+---------+---------+--------+\n",
      "|The Shawshank Red...|         1994|          A|142 min|        9.3|Two imprisoned me...|        80|      Frank Darabont|       Tim Robbins|      Morgan Freeman|        Bob Gunton|      William Sadler|    2343110| 2.8341468E7|    Drama|     NULL|    NULL|\n",
      "|       The Godfather|         1972|          A|175 min|        9.2|An organized crim...|       100|Francis Ford Coppola|     Marlon Brando|           Al Pacino|        James Caan|        Diane Keaton|    1620367|1.34966416E8|    Crime|    Drama|    NULL|\n",
      "|     The Dark Knight|         2008|         UA|152 min|        9.0|When the menace k...|        84|   Christopher Nolan|    Christian Bale|        Heath Ledger|     Aaron Eckhart|       Michael Caine|    2303232|5.34858432E8|   Action|    Crime|   Drama|\n",
      "|The Godfather: Pa...|         1974|          A|202 min|        9.0|The early life an...|        90|Francis Ford Coppola|         Al Pacino|      Robert De Niro|     Robert Duvall|        Diane Keaton|    1129952|      5.73E7|    Crime|    Drama|    NULL|\n",
      "|        12 Angry Men|         1957|          U| 96 min|        9.0|A jury holdout at...|        96|        Sidney Lumet|       Henry Fonda|         Lee J. Cobb|     Martin Balsam|        John Fiedler|     689845|   4360000.0|    Crime|    Drama|    NULL|\n",
      "|The Lord of the R...|         2003|          U|201 min|        8.9|Gandalf and Arago...|        94|       Peter Jackson|       Elijah Wood|     Viggo Mortensen|      Ian McKellen|       Orlando Bloom|    1642758| 3.7784592E8|   Action|Adventure|   Drama|\n",
      "|        Pulp Fiction|         1994|          A|154 min|        8.9|The lives of two ...|        94|   Quentin Tarantino|     John Travolta|         Uma Thurman| Samuel L. Jackson|        Bruce Willis|    1826188| 1.0792876E8|    Crime|    Drama|    NULL|\n",
      "|    Schindler's List|         1993|          A|195 min|        8.9|In German-occupie...|        94|    Steven Spielberg|       Liam Neeson|       Ralph Fiennes|      Ben Kingsley|    Caroline Goodall|    1213505| 9.6898816E7|Biography|    Drama| History|\n",
      "|           Inception|         2010|         UA|148 min|        8.8|A thief who steal...|        74|   Christopher Nolan| Leonardo DiCaprio|Joseph Gordon-Levitt|       Elliot Page|        Ken Watanabe|    2067042|2.92576192E8|   Action|Adventure|  Sci-Fi|\n",
      "|          Fight Club|         1999|          A|139 min|        8.8|An insomniac offi...|        66|       David Fincher|         Brad Pitt|       Edward Norton|         Meat Loaf|        Zach Grenier|    1854740| 3.7030104E7|    Drama|     NULL|    NULL|\n",
      "|The Lord of the R...|         2001|          U|178 min|        8.8|A meek Hobbit fro...|        92|       Peter Jackson|       Elijah Wood|        Ian McKellen|     Orlando Bloom|           Sean Bean|    1661481|3.15544736E8|   Action|Adventure|   Drama|\n",
      "|        Forrest Gump|         1994|         UA|142 min|        8.8|The presidencies ...|        82|     Robert Zemeckis|         Tom Hanks|        Robin Wright|       Gary Sinise|         Sally Field|    1809221|3.30252192E8|    Drama|  Romance|    NULL|\n",
      "|Il buono, il brut...|         1966|          A|161 min|        8.8|A bounty hunting ...|        90|        Sergio Leone|    Clint Eastwood|         Eli Wallach|     Lee Van Cleef|        Aldo Giuffrè|     688390|   6100000.0|  Western|     NULL|    NULL|\n",
      "|The Lord of the R...|         2002|         UA|179 min|        8.7|While Frodo and S...|        87|       Peter Jackson|       Elijah Wood|        Ian McKellen|   Viggo Mortensen|       Orlando Bloom|    1485555| 3.4255136E8|   Action|Adventure|   Drama|\n",
      "|          The Matrix|         1999|          A|136 min|        8.7|When a beautiful ...|        73|      Lana Wachowski|   Lilly Wachowski|        Keanu Reeves|Laurence Fishburne|    Carrie-Anne Moss|    1676426|1.71479936E8|   Action|   Sci-Fi|    NULL|\n",
      "|          Goodfellas|         1990|          A|146 min|        8.7|The story of Henr...|        90|     Martin Scorsese|    Robert De Niro|          Ray Liotta|         Joe Pesci|     Lorraine Bracco|    1020727| 4.6836392E7|Biography|    Crime|   Drama|\n",
      "|Star Wars: Episod...|         1980|         UA|124 min|        8.7|After the Rebels ...|        82|      Irvin Kershner|       Mark Hamill|       Harrison Ford|     Carrie Fisher|  Billy Dee Williams|    1159315|2.90475072E8|   Action|Adventure| Fantasy|\n",
      "|One Flew Over the...|         1975|          A|133 min|        8.7|A criminal pleads...|        83|        Milos Forman|    Jack Nicholson|     Louise Fletcher|  Michael Berryman|        Peter Brocco|     918088|      1.12E8|    Drama|     NULL|    NULL|\n",
      "|            Hamilton|         2020|      PG-13|160 min|        8.6|The real life of ...|        90|         Thomas Kail|Lin-Manuel Miranda|        Phillipa Soo|   Leslie Odom Jr.|Renée Elise Golds...|      55291| 6.6496704E7|Biography|    Drama| History|\n",
      "|        Gisaengchung|         2019|          A|132 min|        8.6|Greed and class d...|        96|        Bong Joon Ho|      Kang-ho Song|        Lee Sun-kyun|     Cho Yeo-jeong|        Choi Woo-sik|     552778| 5.3367844E7|   Comedy|    Drama|Thriller|\n",
      "+--------------------+-------------+-----------+-------+-----------+--------------------+----------+--------------------+------------------+--------------------+------------------+--------------------+-----------+------------+---------+---------+--------+\n",
      "only showing top 20 rows\n",
      "\n"
     ]
    }
   ],
   "source": [
    "from pyspark.sql.functions import mean\n",
    "mean_value=dfrm1.select(mean(dfrm1['Meta_score'])).collect()[0][0]\n",
    "mean_value1=dfrm1.select(mean(dfrm1['Gross'])).collect()[0][0]\n",
    "dfrm1 = dfrm1.na.fill({'Certificate': 'U'})\n",
    "dfrm1=dfrm1.na.fill({'Meta_score':mean_value})\n",
    "dfrm1=dfrm1.na.fill({'Gross':mean_value1})\n",
    "dfrm1.show()\n"
   ]
  },
  {
   "cell_type": "code",
   "execution_count": 14,
   "metadata": {},
   "outputs": [
    {
     "name": "stdout",
     "output_type": "stream",
     "text": [
      "+------------+-------------+-----------+-------+------+-----------+--------------------+--------------------+--------+-----------+-----------+----------+--------------+-----------+-----+\n",
      "|Series_Title|Released_Year|Certificate|Runtime| Genre|IMDB_Rating|            Overview|          Meta_score|Director|      Star1|      Star2|     Star3|         Star4|No_of_votes|Gross|\n",
      "+------------+-------------+-----------+-------+------+-----------+--------------------+--------------------+--------+-----------+-----------+----------+--------------+-----------+-----+\n",
      "|       Zelig|         1983|         PG| 79 min|Comedy|        7.7|\"\"\"Documentary\"\" ...| and meets variou...|    NULL|Woody Allen|Woody Allen|Mia Farrow|Patrick Horgan|       NULL|39881|\n",
      "+------------+-------------+-----------+-------+------+-----------+--------------------+--------------------+--------+-----------+-----------+----------+--------------+-----------+-----+\n",
      "\n"
     ]
    }
   ],
   "source": [
    "directors=dfrm1.filter(col('Director').isNull() | isnan(col('Director')))\n",
    "directors.show()\n",
    "dfrm1=dfrm1.withColumn(\"Director\",when(col('Series_title')==\"Zelig\",\"Woody Allen\").otherwise(col('Director')))\n"
   ]
  },
  {
   "cell_type": "code",
   "execution_count": 15,
   "metadata": {},
   "outputs": [],
   "source": [
    "dfrm1.createOrReplaceTempView('dfrm1')"
   ]
  },
  {
   "cell_type": "code",
   "execution_count": 16,
   "metadata": {},
   "outputs": [],
   "source": [
    "from pyspark.sql.functions import split, col\n",
    "df_split = dfrm1.withColumn('Genre', split(col('Genre'), ', '))\n",
    "dfrm1 = df_split.withColumn('Genre_1', col('Genre').getItem(0)) \\\n",
    "                   .withColumn('Genre_2', col('Genre').getItem(1)) \\\n",
    "                   .withColumn('Genre_3', col('Genre').getItem(2))"
   ]
  },
  {
   "cell_type": "code",
   "execution_count": 17,
   "metadata": {},
   "outputs": [],
   "source": [
    "dfrm1=dfrm1.drop('Genre')"
   ]
  },
  {
   "cell_type": "code",
   "execution_count": 18,
   "metadata": {},
   "outputs": [
    {
     "name": "stdout",
     "output_type": "stream",
     "text": [
      "+--------------------+-------------+-----------+-------+-----------+--------------------+----------+--------------------+------------------+--------------------+------------------+--------------------+-----------+---------+---------+---------+--------+\n",
      "|        Series_Title|Released_Year|Certificate|Runtime|IMDB_Rating|            Overview|Meta_score|            Director|             Star1|               Star2|             Star3|               Star4|No_of_votes|    Gross|  Genre_1|  Genre_2| Genre_3|\n",
      "+--------------------+-------------+-----------+-------+-----------+--------------------+----------+--------------------+------------------+--------------------+------------------+--------------------+-----------+---------+---------+---------+--------+\n",
      "|The Shawshank Red...|         1994|          A|142 min|        9.3|Two imprisoned me...|        80|      Frank Darabont|       Tim Robbins|      Morgan Freeman|        Bob Gunton|      William Sadler|    2343110| 28341469|    Drama|     NULL|    NULL|\n",
      "|       The Godfather|         1972|          A|175 min|        9.2|An organized crim...|       100|Francis Ford Coppola|     Marlon Brando|           Al Pacino|        James Caan|        Diane Keaton|    1620367|134966411|    Crime|    Drama|    NULL|\n",
      "|     The Dark Knight|         2008|         UA|152 min|        9.0|When the menace k...|        84|   Christopher Nolan|    Christian Bale|        Heath Ledger|     Aaron Eckhart|       Michael Caine|    2303232|534858444|   Action|    Crime|   Drama|\n",
      "|The Godfather: Pa...|         1974|          A|202 min|        9.0|The early life an...|        90|Francis Ford Coppola|         Al Pacino|      Robert De Niro|     Robert Duvall|        Diane Keaton|    1129952| 57300000|    Crime|    Drama|    NULL|\n",
      "|        12 Angry Men|         1957|          U| 96 min|        9.0|A jury holdout at...|        96|        Sidney Lumet|       Henry Fonda|         Lee J. Cobb|     Martin Balsam|        John Fiedler|     689845|  4360000|    Crime|    Drama|    NULL|\n",
      "|The Lord of the R...|         2003|          U|201 min|        8.9|Gandalf and Arago...|        94|       Peter Jackson|       Elijah Wood|     Viggo Mortensen|      Ian McKellen|       Orlando Bloom|    1642758|377845905|   Action|Adventure|   Drama|\n",
      "|        Pulp Fiction|         1994|          A|154 min|        8.9|The lives of two ...|        94|   Quentin Tarantino|     John Travolta|         Uma Thurman| Samuel L. Jackson|        Bruce Willis|    1826188|107928762|    Crime|    Drama|    NULL|\n",
      "|    Schindler's List|         1993|          A|195 min|        8.9|In German-occupie...|        94|    Steven Spielberg|       Liam Neeson|       Ralph Fiennes|      Ben Kingsley|    Caroline Goodall|    1213505| 96898818|Biography|    Drama| History|\n",
      "|           Inception|         2010|         UA|148 min|        8.8|A thief who steal...|        74|   Christopher Nolan| Leonardo DiCaprio|Joseph Gordon-Levitt|       Elliot Page|        Ken Watanabe|    2067042|292576195|   Action|Adventure|  Sci-Fi|\n",
      "|          Fight Club|         1999|          A|139 min|        8.8|An insomniac offi...|        66|       David Fincher|         Brad Pitt|       Edward Norton|         Meat Loaf|        Zach Grenier|    1854740| 37030102|    Drama|     NULL|    NULL|\n",
      "|The Lord of the R...|         2001|          U|178 min|        8.8|A meek Hobbit fro...|        92|       Peter Jackson|       Elijah Wood|        Ian McKellen|     Orlando Bloom|           Sean Bean|    1661481|315544750|   Action|Adventure|   Drama|\n",
      "|        Forrest Gump|         1994|         UA|142 min|        8.8|The presidencies ...|        82|     Robert Zemeckis|         Tom Hanks|        Robin Wright|       Gary Sinise|         Sally Field|    1809221|330252182|    Drama|  Romance|    NULL|\n",
      "|Il buono, il brut...|         1966|          A|161 min|        8.8|A bounty hunting ...|        90|        Sergio Leone|    Clint Eastwood|         Eli Wallach|     Lee Van Cleef|        Aldo Giuffrè|     688390|  6100000|  Western|     NULL|    NULL|\n",
      "|The Lord of the R...|         2002|         UA|179 min|        8.7|While Frodo and S...|        87|       Peter Jackson|       Elijah Wood|        Ian McKellen|   Viggo Mortensen|       Orlando Bloom|    1485555|342551365|   Action|Adventure|   Drama|\n",
      "|          The Matrix|         1999|          A|136 min|        8.7|When a beautiful ...|        73|      Lana Wachowski|   Lilly Wachowski|        Keanu Reeves|Laurence Fishburne|    Carrie-Anne Moss|    1676426|171479930|   Action|   Sci-Fi|    NULL|\n",
      "|          Goodfellas|         1990|          A|146 min|        8.7|The story of Henr...|        90|     Martin Scorsese|    Robert De Niro|          Ray Liotta|         Joe Pesci|     Lorraine Bracco|    1020727| 46836394|Biography|    Crime|   Drama|\n",
      "|Star Wars: Episod...|         1980|         UA|124 min|        8.7|After the Rebels ...|        82|      Irvin Kershner|       Mark Hamill|       Harrison Ford|     Carrie Fisher|  Billy Dee Williams|    1159315|290475067|   Action|Adventure| Fantasy|\n",
      "|One Flew Over the...|         1975|          A|133 min|        8.7|A criminal pleads...|        83|        Milos Forman|    Jack Nicholson|     Louise Fletcher|  Michael Berryman|        Peter Brocco|     918088|112000000|    Drama|     NULL|    NULL|\n",
      "|            Hamilton|         2020|      PG-13|160 min|        8.6|The real life of ...|        90|         Thomas Kail|Lin-Manuel Miranda|        Phillipa Soo|   Leslie Odom Jr.|Renée Elise Golds...|      55291| 66496706|Biography|    Drama| History|\n",
      "|        Gisaengchung|         2019|          A|132 min|        8.6|Greed and class d...|        96|        Bong Joon Ho|      Kang-ho Song|        Lee Sun-kyun|     Cho Yeo-jeong|        Choi Woo-sik|     552778| 53367844|   Comedy|    Drama|Thriller|\n",
      "+--------------------+-------------+-----------+-------+-----------+--------------------+----------+--------------------+------------------+--------------------+------------------+--------------------+-----------+---------+---------+---------+--------+\n",
      "only showing top 20 rows\n",
      "\n"
     ]
    }
   ],
   "source": [
    "dfrm1.show()"
   ]
  },
  {
   "cell_type": "code",
   "execution_count": 19,
   "metadata": {},
   "outputs": [],
   "source": [
    "df_filled = dfrm1.fillna(\"Unknown\", subset=[\"genre_1\", \"genre_2\", \"genre_3\"])\n"
   ]
  },
  {
   "cell_type": "code",
   "execution_count": 20,
   "metadata": {},
   "outputs": [
    {
     "name": "stdout",
     "output_type": "stream",
     "text": [
      "+--------------------+-------------+-----------+-------+-----------+--------------------+----------+--------------------+------------------+--------------------+------------------+--------------------+-----------+---------+---------+---------+--------+\n",
      "|        Series_Title|Released_Year|Certificate|Runtime|IMDB_Rating|            Overview|Meta_score|            Director|             Star1|               Star2|             Star3|               Star4|No_of_votes|    Gross|  Genre_1|  Genre_2| Genre_3|\n",
      "+--------------------+-------------+-----------+-------+-----------+--------------------+----------+--------------------+------------------+--------------------+------------------+--------------------+-----------+---------+---------+---------+--------+\n",
      "|The Shawshank Red...|         1994|          A|142 min|        9.3|Two imprisoned me...|        80|      Frank Darabont|       Tim Robbins|      Morgan Freeman|        Bob Gunton|      William Sadler|    2343110| 28341469|    Drama|  Unknown| Unknown|\n",
      "|       The Godfather|         1972|          A|175 min|        9.2|An organized crim...|       100|Francis Ford Coppola|     Marlon Brando|           Al Pacino|        James Caan|        Diane Keaton|    1620367|134966411|    Crime|    Drama| Unknown|\n",
      "|     The Dark Knight|         2008|         UA|152 min|        9.0|When the menace k...|        84|   Christopher Nolan|    Christian Bale|        Heath Ledger|     Aaron Eckhart|       Michael Caine|    2303232|534858444|   Action|    Crime|   Drama|\n",
      "|The Godfather: Pa...|         1974|          A|202 min|        9.0|The early life an...|        90|Francis Ford Coppola|         Al Pacino|      Robert De Niro|     Robert Duvall|        Diane Keaton|    1129952| 57300000|    Crime|    Drama| Unknown|\n",
      "|        12 Angry Men|         1957|          U| 96 min|        9.0|A jury holdout at...|        96|        Sidney Lumet|       Henry Fonda|         Lee J. Cobb|     Martin Balsam|        John Fiedler|     689845|  4360000|    Crime|    Drama| Unknown|\n",
      "|The Lord of the R...|         2003|          U|201 min|        8.9|Gandalf and Arago...|        94|       Peter Jackson|       Elijah Wood|     Viggo Mortensen|      Ian McKellen|       Orlando Bloom|    1642758|377845905|   Action|Adventure|   Drama|\n",
      "|        Pulp Fiction|         1994|          A|154 min|        8.9|The lives of two ...|        94|   Quentin Tarantino|     John Travolta|         Uma Thurman| Samuel L. Jackson|        Bruce Willis|    1826188|107928762|    Crime|    Drama| Unknown|\n",
      "|    Schindler's List|         1993|          A|195 min|        8.9|In German-occupie...|        94|    Steven Spielberg|       Liam Neeson|       Ralph Fiennes|      Ben Kingsley|    Caroline Goodall|    1213505| 96898818|Biography|    Drama| History|\n",
      "|           Inception|         2010|         UA|148 min|        8.8|A thief who steal...|        74|   Christopher Nolan| Leonardo DiCaprio|Joseph Gordon-Levitt|       Elliot Page|        Ken Watanabe|    2067042|292576195|   Action|Adventure|  Sci-Fi|\n",
      "|          Fight Club|         1999|          A|139 min|        8.8|An insomniac offi...|        66|       David Fincher|         Brad Pitt|       Edward Norton|         Meat Loaf|        Zach Grenier|    1854740| 37030102|    Drama|  Unknown| Unknown|\n",
      "|The Lord of the R...|         2001|          U|178 min|        8.8|A meek Hobbit fro...|        92|       Peter Jackson|       Elijah Wood|        Ian McKellen|     Orlando Bloom|           Sean Bean|    1661481|315544750|   Action|Adventure|   Drama|\n",
      "|        Forrest Gump|         1994|         UA|142 min|        8.8|The presidencies ...|        82|     Robert Zemeckis|         Tom Hanks|        Robin Wright|       Gary Sinise|         Sally Field|    1809221|330252182|    Drama|  Romance| Unknown|\n",
      "|Il buono, il brut...|         1966|          A|161 min|        8.8|A bounty hunting ...|        90|        Sergio Leone|    Clint Eastwood|         Eli Wallach|     Lee Van Cleef|        Aldo Giuffrè|     688390|  6100000|  Western|  Unknown| Unknown|\n",
      "|The Lord of the R...|         2002|         UA|179 min|        8.7|While Frodo and S...|        87|       Peter Jackson|       Elijah Wood|        Ian McKellen|   Viggo Mortensen|       Orlando Bloom|    1485555|342551365|   Action|Adventure|   Drama|\n",
      "|          The Matrix|         1999|          A|136 min|        8.7|When a beautiful ...|        73|      Lana Wachowski|   Lilly Wachowski|        Keanu Reeves|Laurence Fishburne|    Carrie-Anne Moss|    1676426|171479930|   Action|   Sci-Fi| Unknown|\n",
      "|          Goodfellas|         1990|          A|146 min|        8.7|The story of Henr...|        90|     Martin Scorsese|    Robert De Niro|          Ray Liotta|         Joe Pesci|     Lorraine Bracco|    1020727| 46836394|Biography|    Crime|   Drama|\n",
      "|Star Wars: Episod...|         1980|         UA|124 min|        8.7|After the Rebels ...|        82|      Irvin Kershner|       Mark Hamill|       Harrison Ford|     Carrie Fisher|  Billy Dee Williams|    1159315|290475067|   Action|Adventure| Fantasy|\n",
      "|One Flew Over the...|         1975|          A|133 min|        8.7|A criminal pleads...|        83|        Milos Forman|    Jack Nicholson|     Louise Fletcher|  Michael Berryman|        Peter Brocco|     918088|112000000|    Drama|  Unknown| Unknown|\n",
      "|            Hamilton|         2020|      PG-13|160 min|        8.6|The real life of ...|        90|         Thomas Kail|Lin-Manuel Miranda|        Phillipa Soo|   Leslie Odom Jr.|Renée Elise Golds...|      55291| 66496706|Biography|    Drama| History|\n",
      "|        Gisaengchung|         2019|          A|132 min|        8.6|Greed and class d...|        96|        Bong Joon Ho|      Kang-ho Song|        Lee Sun-kyun|     Cho Yeo-jeong|        Choi Woo-sik|     552778| 53367844|   Comedy|    Drama|Thriller|\n",
      "+--------------------+-------------+-----------+-------+-----------+--------------------+----------+--------------------+------------------+--------------------+------------------+--------------------+-----------+---------+---------+---------+--------+\n",
      "only showing top 20 rows\n",
      "\n"
     ]
    }
   ],
   "source": [
    "df_filled.show()"
   ]
  },
  {
   "cell_type": "code",
   "execution_count": 21,
   "metadata": {},
   "outputs": [],
   "source": [
    "query = \"\"\"\n",
    "    SELECT Director, COUNT(*) as Movie_Count\n",
    "    FROM dfrm1\n",
    "    GROUP BY Director order by Movie_Count DESC\n",
    "\"\"\""
   ]
  },
  {
   "cell_type": "code",
   "execution_count": 22,
   "metadata": {},
   "outputs": [],
   "source": [
    "q=spark.sql(query)"
   ]
  },
  {
   "cell_type": "code",
   "execution_count": 23,
   "metadata": {},
   "outputs": [
    {
     "name": "stdout",
     "output_type": "stream",
     "text": [
      "+-----------------+-----------+\n",
      "|         Director|Movie_Count|\n",
      "+-----------------+-----------+\n",
      "| Alfred Hitchcock|         14|\n",
      "| Steven Spielberg|         12|\n",
      "|   Hayao Miyazaki|         11|\n",
      "|   Akira Kurosawa|         10|\n",
      "|  Martin Scorsese|         10|\n",
      "|  Stanley Kubrick|          9|\n",
      "|      Woody Allen|          9|\n",
      "|     Billy Wilder|          9|\n",
      "|   Clint Eastwood|          8|\n",
      "|    David Fincher|          8|\n",
      "|Christopher Nolan|          8|\n",
      "|Quentin Tarantino|          8|\n",
      "|     Howard Hawks|          7|\n",
      "|       Rob Reiner|          7|\n",
      "|   Ingmar Bergman|          7|\n",
      "|Richard Linklater|          6|\n",
      "|   Alfonso Cuarón|          6|\n",
      "|  Charles Chaplin|          6|\n",
      "|     Ridley Scott|          6|\n",
      "|     Wes Anderson|          6|\n",
      "+-----------------+-----------+\n",
      "only showing top 20 rows\n",
      "\n"
     ]
    }
   ],
   "source": [
    "q.show()"
   ]
  },
  {
   "cell_type": "code",
   "execution_count": 24,
   "metadata": {},
   "outputs": [],
   "source": [
    "query2=\"\"\"\n",
    "select series_title,imdb_rating,No_of_votes from dfrm1 order by no_of_votes DESC\n",
    "\"\"\"\n",
    "q2=spark.sql(query2)"
   ]
  },
  {
   "cell_type": "code",
   "execution_count": 25,
   "metadata": {},
   "outputs": [
    {
     "name": "stdout",
     "output_type": "stream",
     "text": [
      "+--------------------+-----------+-----------+\n",
      "|        series_title|imdb_rating|No_of_votes|\n",
      "+--------------------+-----------+-----------+\n",
      "|The Shawshank Red...|        9.3|    2343110|\n",
      "|     The Dark Knight|        9.0|    2303232|\n",
      "|           Inception|        8.8|    2067042|\n",
      "|          Fight Club|        8.8|    1854740|\n",
      "|        Pulp Fiction|        8.9|    1826188|\n",
      "|        Forrest Gump|        8.8|    1809221|\n",
      "|          The Matrix|        8.7|    1676426|\n",
      "|The Lord of the R...|        8.8|    1661481|\n",
      "|The Lord of the R...|        8.9|    1642758|\n",
      "|       The Godfather|        9.2|    1620367|\n",
      "|The Dark Knight R...|        8.4|    1516346|\n",
      "|        Interstellar|        8.6|    1512360|\n",
      "|The Lord of the R...|        8.7|    1485555|\n",
      "|               Se7en|        8.6|    1445096|\n",
      "|    Django Unchained|        8.4|    1357682|\n",
      "|           Gladiator|        8.5|    1341460|\n",
      "|       Batman Begins|        8.2|    1308302|\n",
      "|The Silence of th...|        8.6|    1270197|\n",
      "|Inglourious Basterds|        8.3|    1267869|\n",
      "|        The Avengers|        8.0|    1260806|\n",
      "+--------------------+-----------+-----------+\n",
      "only showing top 20 rows\n",
      "\n"
     ]
    }
   ],
   "source": [
    "q2.show()"
   ]
  },
  {
   "cell_type": "code",
   "execution_count": 26,
   "metadata": {},
   "outputs": [
    {
     "name": "stdout",
     "output_type": "stream",
     "text": [
      "+---------+-----+\n",
      "|    genre|count|\n",
      "+---------+-----+\n",
      "|    Drama|  724|\n",
      "|   Comedy|  233|\n",
      "|    Crime|  209|\n",
      "|Adventure|  196|\n",
      "|   Action|  189|\n",
      "| Thriller|  137|\n",
      "|  Romance|  125|\n",
      "|Biography|  109|\n",
      "|  Mystery|   99|\n",
      "|Animation|   82|\n",
      "|   Sci-Fi|   67|\n",
      "|  Fantasy|   66|\n",
      "|   Family|   56|\n",
      "|  History|   56|\n",
      "|      War|   51|\n",
      "|    Music|   35|\n",
      "|   Horror|   32|\n",
      "|  Western|   20|\n",
      "|Film-Noir|   19|\n",
      "|    Sport|   19|\n",
      "+---------+-----+\n",
      "only showing top 20 rows\n",
      "\n"
     ]
    }
   ],
   "source": [
    "from pyspark.sql import functions as F\n",
    "melted_df = dfrm1.select(\"series_title\", F.explode(F.array(\"genre_1\", \"genre_2\", \"genre_3\")).alias(\"genre\")) \\\n",
    "    .na.drop(subset=[\"genre\"])\n",
    "genre_count = melted_df.groupBy(\"genre\").count().orderBy(\"count\", ascending=False)\n",
    "genre_count.show()\n"
   ]
  },
  {
   "cell_type": "code",
   "execution_count": 45,
   "metadata": {},
   "outputs": [
    {
     "data": {
      "image/png": "[encoded data removed]",
      "text/plain": [
       "<Figure size 1000x600 with 1 Axes>"
      ]
     },
     "metadata": {},
     "output_type": "display_data"
    }
   ],
   "source": [
    "import seaborn as sns\n",
    "import matplotlib.pyplot as plt\n",
    "temp=dfrm1.select('imdb_rating','gross').toPandas()\n",
    "plt.figure(figsize=(10,6))\n",
    "sns.scatterplot(data=temp,x='imdb_rating',y='gross')\n",
    "plt.xlabel('IMDB Rating')\n",
    "plt.ylabel('Gross in $')\n",
    "plt.show()"
   ]
  },
  {
   "cell_type": "code",
   "execution_count": 52,
   "metadata": {},
   "outputs": [
    {
     "data": {
      "image/png": "[encoded data removed]",
      "text/plain": [
       "<Figure size 2000x600 with 1 Axes>"
      ]
     },
     "metadata": {},
     "output_type": "display_data"
    }
   ],
   "source": [
    "temp2=genre_count.select('genre','count').toPandas()\n",
    "plt.figure(figsize=(20,6))\n",
    "sns.barplot(data=temp2,x='genre',y='count',color='green')\n",
    "plt.xlabel('Genre')\n",
    "plt.ylabel('count')\n",
    "plt.show()"
   ]
  },
  {
   "cell_type": "code",
   "execution_count": 47,
   "metadata": {},
   "outputs": [
    {
     "data": {
      "text/html": [
       "<div>\n",
       "<style scoped>\n",
       "    .dataframe tbody tr th:only-of-type {\n",
       "        vertical-align: middle;\n",
       "    }\n",
       "\n",
       "    .dataframe tbody tr th {\n",
       "        vertical-align: top;\n",
       "    }\n",
       "\n",
       "    .dataframe thead th {\n",
       "        text-align: right;\n",
       "    }\n",
       "</style>\n",
       "<table border=\"1\" class=\"dataframe\">\n",
       "  <thead>\n",
       "    <tr style=\"text-align: right;\">\n",
       "      <th></th>\n",
       "      <th>genre</th>\n",
       "      <th>count</th>\n",
       "    </tr>\n",
       "  </thead>\n",
       "  <tbody>\n",
       "    <tr>\n",
       "      <th>0</th>\n",
       "      <td>Drama</td>\n",
       "      <td>724</td>\n",
       "    </tr>\n",
       "    <tr>\n",
       "      <th>1</th>\n",
       "      <td>Comedy</td>\n",
       "      <td>233</td>\n",
       "    </tr>\n",
       "    <tr>\n",
       "      <th>2</th>\n",
       "      <td>Crime</td>\n",
       "      <td>209</td>\n",
       "    </tr>\n",
       "    <tr>\n",
       "      <th>3</th>\n",
       "      <td>Adventure</td>\n",
       "      <td>196</td>\n",
       "    </tr>\n",
       "    <tr>\n",
       "      <th>4</th>\n",
       "      <td>Action</td>\n",
       "      <td>189</td>\n",
       "    </tr>\n",
       "    <tr>\n",
       "      <th>5</th>\n",
       "      <td>Thriller</td>\n",
       "      <td>137</td>\n",
       "    </tr>\n",
       "    <tr>\n",
       "      <th>6</th>\n",
       "      <td>Romance</td>\n",
       "      <td>125</td>\n",
       "    </tr>\n",
       "    <tr>\n",
       "      <th>7</th>\n",
       "      <td>Biography</td>\n",
       "      <td>109</td>\n",
       "    </tr>\n",
       "    <tr>\n",
       "      <th>8</th>\n",
       "      <td>Mystery</td>\n",
       "      <td>99</td>\n",
       "    </tr>\n",
       "    <tr>\n",
       "      <th>9</th>\n",
       "      <td>Animation</td>\n",
       "      <td>82</td>\n",
       "    </tr>\n",
       "    <tr>\n",
       "      <th>10</th>\n",
       "      <td>Sci-Fi</td>\n",
       "      <td>67</td>\n",
       "    </tr>\n",
       "    <tr>\n",
       "      <th>11</th>\n",
       "      <td>Fantasy</td>\n",
       "      <td>66</td>\n",
       "    </tr>\n",
       "    <tr>\n",
       "      <th>12</th>\n",
       "      <td>Family</td>\n",
       "      <td>56</td>\n",
       "    </tr>\n",
       "    <tr>\n",
       "      <th>13</th>\n",
       "      <td>History</td>\n",
       "      <td>56</td>\n",
       "    </tr>\n",
       "    <tr>\n",
       "      <th>14</th>\n",
       "      <td>War</td>\n",
       "      <td>51</td>\n",
       "    </tr>\n",
       "    <tr>\n",
       "      <th>15</th>\n",
       "      <td>Music</td>\n",
       "      <td>35</td>\n",
       "    </tr>\n",
       "    <tr>\n",
       "      <th>16</th>\n",
       "      <td>Horror</td>\n",
       "      <td>32</td>\n",
       "    </tr>\n",
       "    <tr>\n",
       "      <th>17</th>\n",
       "      <td>Western</td>\n",
       "      <td>20</td>\n",
       "    </tr>\n",
       "    <tr>\n",
       "      <th>18</th>\n",
       "      <td>Film-Noir</td>\n",
       "      <td>19</td>\n",
       "    </tr>\n",
       "    <tr>\n",
       "      <th>19</th>\n",
       "      <td>Sport</td>\n",
       "      <td>19</td>\n",
       "    </tr>\n",
       "    <tr>\n",
       "      <th>20</th>\n",
       "      <td>Musical</td>\n",
       "      <td>17</td>\n",
       "    </tr>\n",
       "  </tbody>\n",
       "</table>\n",
       "</div>"
      ],
      "text/plain": [
       "        genre  count\n",
       "0       Drama    724\n",
       "1      Comedy    233\n",
       "2       Crime    209\n",
       "3   Adventure    196\n",
       "4      Action    189\n",
       "5    Thriller    137\n",
       "6     Romance    125\n",
       "7   Biography    109\n",
       "8     Mystery     99\n",
       "9   Animation     82\n",
       "10     Sci-Fi     67\n",
       "11    Fantasy     66\n",
       "12     Family     56\n",
       "13    History     56\n",
       "14        War     51\n",
       "15      Music     35\n",
       "16     Horror     32\n",
       "17    Western     20\n",
       "18  Film-Noir     19\n",
       "19      Sport     19\n",
       "20    Musical     17"
      ]
     },
     "execution_count": 47,
     "metadata": {},
     "output_type": "execute_result"
    }
   ],
   "source": []
  },
  {
   "cell_type": "code",
   "execution_count": null,
   "metadata": {},
   "outputs": [],
   "source": []
  }
 ],
 "metadata": {
  "kernelspec": {
   "display_name": "venv1",
   "language": "python",
   "name": "python3"
  },
  "language_info": {
   "codemirror_mode": {
    "name": "ipython",
    "version": 3
   },
   "file_extension": ".py",
   "mimetype": "text/x-python",
   "name": "python",
   "nbconvert_exporter": "python",
   "pygments_lexer": "ipython3",
   "version": "3.10.15"
  }
 },
 "nbformat": 4,
 "nbformat_minor": 2
}
